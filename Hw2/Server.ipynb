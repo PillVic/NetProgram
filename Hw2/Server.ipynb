{
 "cells": [
  {
   "cell_type": "code",
   "execution_count": 1,
   "metadata": {},
   "outputs": [],
   "source": [
    "#Server\n",
    "import socket\n",
    "PORT = 6666\n",
    "MaxBytes = 65536"
   ]
  },
  {
   "cell_type": "code",
   "execution_count": 2,
   "metadata": {},
   "outputs": [],
   "source": [
    "def buildDict(fileName, encode,dictA):\n",
    "    lines = open(fileName, encoding=encode).readlines()\n",
    "    for line in lines:\n",
    "        t = line.strip('\\n').split('   ')\n",
    "        dictA[t[0]] = t[1]\n",
    "    return dictA"
   ]
  },
  {
   "cell_type": "code",
   "execution_count": 3,
   "metadata": {},
   "outputs": [],
   "source": [
    "EngDict = dict()\n",
    "EngDict = buildDict('dict/新东方红宝书.txt','gb18030', buildDict('dict/研究生入学考试.txt', 'gb2312', EngDict))"
   ]
  },
  {
   "cell_type": "code",
   "execution_count": 4,
   "metadata": {},
   "outputs": [],
   "source": [
    "# 使用端口6666进行通信\n",
    "s = socket.socket(socket.AF_INET, socket.SOCK_DGRAM)\n",
    "s.bind(('127.0.0.1', PORT))"
   ]
  },
  {
   "cell_type": "code",
   "execution_count": 8,
   "metadata": {},
   "outputs": [
    {
     "name": "stdout",
     "output_type": "stream",
     "text": [
      "EXIT......\n"
     ]
    }
   ],
   "source": [
    "while True:\n",
    "    data, address = s.recvfrom(MaxBytes)\n",
    "    message = data.decode('utf-8')\n",
    "    answer = EngDict.get(message, 'Not Found the word')\n",
    "    s.sendto(answer.encode('utf-8'), address)\n",
    "    if message == 'EOF':\n",
    "        print('EXIT......')\n",
    "        break"
   ]
  }
 ],
 "metadata": {
  "kernelspec": {
   "display_name": "Python 3",
   "language": "python",
   "name": "python3"
  },
  "language_info": {
   "codemirror_mode": {
    "name": "ipython",
    "version": 3
   },
   "file_extension": ".py",
   "mimetype": "text/x-python",
   "name": "python",
   "nbconvert_exporter": "python",
   "pygments_lexer": "ipython3",
   "version": "3.6.6"
  }
 },
 "nbformat": 4,
 "nbformat_minor": 2
}
