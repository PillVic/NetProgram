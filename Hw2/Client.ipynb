{
 "cells": [
  {
   "cell_type": "code",
   "execution_count": 1,
   "metadata": {},
   "outputs": [],
   "source": [
    "#Client"
   ]
  },
  {
   "cell_type": "code",
   "execution_count": 2,
   "metadata": {},
   "outputs": [],
   "source": [
    "import socket\n",
    "PORT = 6666\n",
    "MaxBytes = 65536"
   ]
  },
  {
   "cell_type": "code",
   "execution_count": 3,
   "metadata": {},
   "outputs": [],
   "source": [
    "s = socket.socket(socket.AF_INET, socket.SOCK_DGRAM)"
   ]
  },
  {
   "cell_type": "code",
   "execution_count": 7,
   "metadata": {},
   "outputs": [
    {
     "name": "stdout",
     "output_type": "stream",
     "text": [
      "Please input a word:apple\n",
      "n.苹果\n",
      "Please input a word:linux\n",
      "Not Found the word\n",
      "Please input a word:system\n",
      "n.系统，体系；制度\n",
      "Please input a word:rule\n",
      "n.规则；规定\n",
      "Please input a word:blue\n",
      "adj.蓝色的\n",
      "Please input a word:EOF\n"
     ]
    }
   ],
   "source": [
    "while True:\n",
    "    request = input('Please input a word:')\n",
    "    s.sendto(request.encode('utf-8'), ('127.0.0.1', PORT))\n",
    "    answer = s.recvfrom(MaxBytes)[0].decode('utf-8')\n",
    "    if request == 'EOF':\n",
    "        break\n",
    "    print(answer)"
   ]
  }
 ],
 "metadata": {
  "kernelspec": {
   "display_name": "Python 3",
   "language": "python",
   "name": "python3"
  },
  "language_info": {
   "codemirror_mode": {
    "name": "ipython",
    "version": 3
   },
   "file_extension": ".py",
   "mimetype": "text/x-python",
   "name": "python",
   "nbconvert_exporter": "python",
   "pygments_lexer": "ipython3",
   "version": "3.6.6"
  }
 },
 "nbformat": 4,
 "nbformat_minor": 2
}
