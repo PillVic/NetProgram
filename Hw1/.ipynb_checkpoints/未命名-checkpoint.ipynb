{
 "cells": [
  {
   "cell_type": "code",
   "execution_count": 1,
   "metadata": {},
   "outputs": [],
   "source": [
    "import socket\n",
    "import json"
   ]
  },
  {
   "cell_type": "code",
   "execution_count": 2,
   "metadata": {},
   "outputs": [],
   "source": [
    "s = socket.socket()\n",
    "s.connect(('t.weather.sojson.com', 80))"
   ]
  },
  {
   "cell_type": "code",
   "execution_count": 3,
   "metadata": {},
   "outputs": [],
   "source": [
    "request = '''GET /api/weather/city/101030100 HTTP/1.1\n",
    "Host: t.weather.sojson.com\n",
    "User-Agent: Local Host\n",
    "Accept: text/html,application/xhtml+xml,application/xml;q=0.9,*/*;q=0.8\n",
    "Accept-Language: zh-CN,en-US;q=0.7,en;q=0.3\n",
    "Cookie: _ga=GA1.2.77648417.1538467909; _gid=GA1.2.1865341186.1538824031\n",
    "DNT: 1\n",
    "Connection: keep-alive\n",
    "Upgrade-Insecure-Requests: 1\n",
    "\n",
    "'''"
   ]
  },
  {
   "cell_type": "code",
   "execution_count": 4,
   "metadata": {},
   "outputs": [],
   "source": [
    "s.sendall(request.encode('ascii'))\n",
    "\n",
    "rawReply = b''\n",
    "\n",
    "while True:\n",
    "    more = s.recv(4096)\n",
    "    if not more:\n",
    "        break\n",
    "    rawReply += more\n",
    "s.close()\n",
    "\n",
    "reply = rawReply.decode('utf-8')"
   ]
  },
  {
   "cell_type": "code",
   "execution_count": 12,
   "metadata": {},
   "outputs": [],
   "source": [
    "t = reply[reply.find('{'):reply.rfind('}')+1]"
   ]
  },
  {
   "cell_type": "code",
   "execution_count": 14,
   "metadata": {},
   "outputs": [
    {
     "data": {
      "text/plain": [
       "'HTTP/1.1 200 OK\\r\\nServer: marco/2.6\\r\\nDate: Sun, 07 Oct 2018 11:40:59 GMT\\r\\nContent-Type: application/json;charset=UTF-8\\r\\nTransfer-Encoding: chunked\\r\\nConnection: keep-alive\\r\\nVary: Accept-Encoding\\r\\nX-Source: C/200\\r\\nAccept-Ranges: bytes\\r\\nExpires: Sun, 07 Oct 2018 15:25:56 GMT\\r\\nCache-Control: max-age=14400\\r\\nAge: 903\\r\\nX-Request-Id: 1b603a12dccc9139ed89eb0c0423b515; 9313e8e9bf4be83f1ef511840d56023a\\r\\nVia: S.mix-hz-fdi-163, T.166.M, V.mix-hz-fdi-172, T.131.H, M.cmn-zj-wnz-132\\r\\n\\r\\n63d\\r\\n{\"time\":\"2018-10-07 19:25:55\",\"cityInfo\":{\"city\":\"天津市\",\"cityId\":\"101030100\",\"parent\":\"天津\",\"updateTime\":\"19:16\"},\"date\":\"20181007\",\"message\":\"Success !\",\"status\":200,\"data\":{\"shidu\":\"34%\",\"pm25\":20.0,\"pm10\":66.0,\"quality\":\"良\",\"wendu\":\"14\",\"ganmao\":\"极少数敏感人群应减少户外活动\",\"yesterday\":{\"date\":\"06日星期六\",\"sunrise\":\"06:10\",\"high\":\"高温 20.0℃\",\"low\":\"低温 11.0℃\",\"sunset\":\"17:48\",\"aqi\":52.0,\"fx\":\"北风\",\"fl\":\"4-5级\",\"type\":\"多云\",\"notice\":\"阴晴之间，谨防紫外线侵扰\"},\"forecast\":[{\"date\":\"07日星期日\",\"sunrise\":\"06:11\",\"high\":\"高温 21.0℃\",\"low\":\"低温 10.0℃\",\"sunset\":\"17:46\",\"aqi\":47.0,\"fx\":\"西北风\",\"fl\":\"3-4级\",\"type\":\"晴\",\"notice\":\"愿你拥有比阳光明媚的心情\"},{\"date\":\"08日星期一\",\"sunrise\":\"06:12\",\"high\":\"高温 21.0℃\",\"low\":\"低温 10.0℃\",\"sunset\":\"17:45\",\"aqi\":43.0,\"fx\":\"东风\",\"fl\":\"<3级\",\"type\":\"多云\",\"notice\":\"阴晴之间，谨防紫外线侵扰\"},{\"date\":\"09日星期二\",\"sunrise\":\"06:13\",\"high\":\"高温 17.0℃\",\"low\":\"低温 6.0℃\",\"sunset\":\"17:43\",\"aqi\":39.0,\"fx\":\"西北风\",\"fl\":\"5-6级\",\"type\":\"多云\",\"notice\":\"阴晴之间，谨防紫外线侵扰\"},{\"date\":\"10日星期三\",\"sunrise\":\"06:14\",\"high\":\"高温 17.0℃\",\"low\":\"低温 6.0℃\",\"sunset\":\"17:42\",\"aqi\":28.0,\"fx\":\"西北风\",\"fl\":\"4-5级\",\"type\":\"多云\",\"notice\":\"阴晴之间，谨防紫外线侵扰\"},{\"date\":\"11日星期四\",\"sunrise\":\"06:15\",\"high\":\"高温 19.0℃\",\"low\":\"低温 7.0℃\",\"sunset\":\"17:40\",\"aqi\":35.0,\"fx\":\"西北风\",\"fl\":\"<3级\",\"type\":\"晴\",\"notice\":\"愿你拥有比阳光明媚的心情\"}]}}\\r\\n0\\r\\n\\r\\n'"
      ]
     },
     "execution_count": 14,
     "metadata": {},
     "output_type": "execute_result"
    }
   ],
   "source": [
    "reply"
   ]
  },
  {
   "cell_type": "code",
   "execution_count": 13,
   "metadata": {},
   "outputs": [
    {
     "name": "stdout",
     "output_type": "stream",
     "text": [
      "{\"time\":\"2018-10-07 19:25:55\",\"cityInfo\":{\"city\":\"天津市\",\"cityId\":\"101030100\",\"parent\":\"天津\",\"updateTime\":\"19:16\"},\"date\":\"20181007\",\"message\":\"Success !\",\"status\":200,\"data\":{\"shidu\":\"34%\",\"pm25\":20.0,\"pm10\":66.0,\"quality\":\"良\",\"wendu\":\"14\",\"ganmao\":\"极少数敏感人群应减少户外活动\",\"yesterday\":{\"date\":\"06日星期六\",\"sunrise\":\"06:10\",\"high\":\"高温 20.0℃\",\"low\":\"低温 11.0℃\",\"sunset\":\"17:48\",\"aqi\":52.0,\"fx\":\"北风\",\"fl\":\"4-5级\",\"type\":\"多云\",\"notice\":\"阴晴之间，谨防紫外线侵扰\"},\"forecast\":[{\"date\":\"07日星期日\",\"sunrise\":\"06:11\",\"high\":\"高温 21.0℃\",\"low\":\"低温 10.0℃\",\"sunset\":\"17:46\",\"aqi\":47.0,\"fx\":\"西北风\",\"fl\":\"3-4级\",\"type\":\"晴\",\"notice\":\"愿你拥有比阳光明媚的心情\"},{\"date\":\"08日星期一\",\"sunrise\":\"06:12\",\"high\":\"高温 21.0℃\",\"low\":\"低温 10.0℃\",\"sunset\":\"17:45\",\"aqi\":43.0,\"fx\":\"东风\",\"fl\":\"<3级\",\"type\":\"多云\",\"notice\":\"阴晴之间，谨防紫外线侵扰\"},{\"date\":\"09日星期二\",\"sunrise\":\"06:13\",\"high\":\"高温 17.0℃\",\"low\":\"低温 6.0℃\",\"sunset\":\"17:43\",\"aqi\":39.0,\"fx\":\"西北风\",\"fl\":\"5-6级\",\"type\":\"多云\",\"notice\":\"阴晴之间，谨防紫外线侵扰\"},{\"date\":\"10日星期三\",\"sunrise\":\"06:14\",\"high\":\"高温 17.0℃\",\"low\":\"低温 6.0℃\",\"sunset\":\"17:42\",\"aqi\":28.0,\"fx\":\"西北风\",\"fl\":\"4-5级\",\"type\":\"多云\",\"notice\":\"阴晴之间，谨防紫外线侵扰\"},{\"date\":\"11日星期四\",\"sunrise\":\"06:15\",\"high\":\"高温 19.0℃\",\"low\":\"低温 7.0℃\",\"sunset\":\"17:40\",\"aqi\":35.0,\"fx\":\"西北风\",\"fl\":\"<3级\",\"type\":\"晴\",\"notice\":\"愿你拥有比阳光明媚的心情\"}]}}\n"
     ]
    }
   ],
   "source": [
    "print(t)"
   ]
  },
  {
   "cell_type": "code",
   "execution_count": 15,
   "metadata": {},
   "outputs": [
    {
     "data": {
      "text/plain": [
       "{'time': '2018-10-07 19:25:55',\n",
       " 'cityInfo': {'city': '天津市',\n",
       "  'cityId': '101030100',\n",
       "  'parent': '天津',\n",
       "  'updateTime': '19:16'},\n",
       " 'date': '20181007',\n",
       " 'message': 'Success !',\n",
       " 'status': 200,\n",
       " 'data': {'shidu': '34%',\n",
       "  'pm25': 20.0,\n",
       "  'pm10': 66.0,\n",
       "  'quality': '良',\n",
       "  'wendu': '14',\n",
       "  'ganmao': '极少数敏感人群应减少户外活动',\n",
       "  'yesterday': {'date': '06日星期六',\n",
       "   'sunrise': '06:10',\n",
       "   'high': '高温 20.0℃',\n",
       "   'low': '低温 11.0℃',\n",
       "   'sunset': '17:48',\n",
       "   'aqi': 52.0,\n",
       "   'fx': '北风',\n",
       "   'fl': '4-5级',\n",
       "   'type': '多云',\n",
       "   'notice': '阴晴之间，谨防紫外线侵扰'},\n",
       "  'forecast': [{'date': '07日星期日',\n",
       "    'sunrise': '06:11',\n",
       "    'high': '高温 21.0℃',\n",
       "    'low': '低温 10.0℃',\n",
       "    'sunset': '17:46',\n",
       "    'aqi': 47.0,\n",
       "    'fx': '西北风',\n",
       "    'fl': '3-4级',\n",
       "    'type': '晴',\n",
       "    'notice': '愿你拥有比阳光明媚的心情'},\n",
       "   {'date': '08日星期一',\n",
       "    'sunrise': '06:12',\n",
       "    'high': '高温 21.0℃',\n",
       "    'low': '低温 10.0℃',\n",
       "    'sunset': '17:45',\n",
       "    'aqi': 43.0,\n",
       "    'fx': '东风',\n",
       "    'fl': '<3级',\n",
       "    'type': '多云',\n",
       "    'notice': '阴晴之间，谨防紫外线侵扰'},\n",
       "   {'date': '09日星期二',\n",
       "    'sunrise': '06:13',\n",
       "    'high': '高温 17.0℃',\n",
       "    'low': '低温 6.0℃',\n",
       "    'sunset': '17:43',\n",
       "    'aqi': 39.0,\n",
       "    'fx': '西北风',\n",
       "    'fl': '5-6级',\n",
       "    'type': '多云',\n",
       "    'notice': '阴晴之间，谨防紫外线侵扰'},\n",
       "   {'date': '10日星期三',\n",
       "    'sunrise': '06:14',\n",
       "    'high': '高温 17.0℃',\n",
       "    'low': '低温 6.0℃',\n",
       "    'sunset': '17:42',\n",
       "    'aqi': 28.0,\n",
       "    'fx': '西北风',\n",
       "    'fl': '4-5级',\n",
       "    'type': '多云',\n",
       "    'notice': '阴晴之间，谨防紫外线侵扰'},\n",
       "   {'date': '11日星期四',\n",
       "    'sunrise': '06:15',\n",
       "    'high': '高温 19.0℃',\n",
       "    'low': '低温 7.0℃',\n",
       "    'sunset': '17:40',\n",
       "    'aqi': 35.0,\n",
       "    'fx': '西北风',\n",
       "    'fl': '<3级',\n",
       "    'type': '晴',\n",
       "    'notice': '愿你拥有比阳光明媚的心情'}]}}"
      ]
     },
     "execution_count": 15,
     "metadata": {},
     "output_type": "execute_result"
    }
   ],
   "source": [
    "json.loads(t)"
   ]
  }
 ],
 "metadata": {
  "kernelspec": {
   "display_name": "Python 3",
   "language": "python",
   "name": "python3"
  },
  "language_info": {
   "codemirror_mode": {
    "name": "ipython",
    "version": 3
   },
   "file_extension": ".py",
   "mimetype": "text/x-python",
   "name": "python",
   "nbconvert_exporter": "python",
   "pygments_lexer": "ipython3",
   "version": "3.6.6"
  }
 },
 "nbformat": 4,
 "nbformat_minor": 2
}
